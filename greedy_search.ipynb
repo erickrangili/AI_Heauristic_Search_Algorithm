{
 "cells": [
  {
   "cell_type": "code",
   "execution_count": 2,
   "metadata": {},
   "outputs": [
    {
     "name": "stderr",
     "output_type": "stream",
     "text": [
      "usage: ipykernel_launcher.py [-h] --input-string INPUT_STRING\n",
      "                             [--initial-state INITIAL_STATE]\n",
      "ipykernel_launcher.py: error: the following arguments are required: --input-string\n"
     ]
    },
    {
     "ename": "SystemExit",
     "evalue": "2",
     "output_type": "error",
     "traceback": [
      "An exception has occurred, use %tb to see the full traceback.\n",
      "\u001b[1;31mSystemExit\u001b[0m\u001b[1;31m:\u001b[0m 2\n"
     ]
    },
    {
     "name": "stderr",
     "output_type": "stream",
     "text": [
      "C:\\Users\\Tiger\\Anaconda3\\envs\\Artificial Intelligence\\lib\\site-packages\\IPython\\core\\interactiveshell.py:3339: UserWarning: To exit: use 'exit', 'quit', or Ctrl-D.\n",
      "  warn(\"To exit: use 'exit', 'quit', or Ctrl-D.\", stacklevel=1)\n"
     ]
    }
   ],
   "source": [
    "import argparse\n",
    "import simpleai.search as ss\n",
    "\n",
    "# define a function to pass the input arguments\n",
    "def build_arg_parser():\n",
    "    parser = argparse.ArgumentParser(description='Creates the input string using the greedy algorithm')\n",
    "    parser.add_argument(\"--input-string\", dest=\"input_string\",required=True,help=\"Input string\")\n",
    "    parser.add_argument(\"--initial-state\", dest=\"initial_state\",required=False,default='', help=\"Starting point for the search\")\n",
    "    return parser\n",
    "\n",
    "# The first method set_target is a custom method that we define to set\n",
    "# the target string:\n",
    "class CustomProblem(ss.SearchProblem):\n",
    "    def set_target(self, target_string):\n",
    "        self.target_string = target_string\n",
    "        \n",
    "    # Check the current state and take the right action\n",
    "    def actions(self, cur_state):\n",
    "        if len(cur_state) < len(self.target_string):\n",
    "            alphabets = 'abcdefghijklmnopqrstuvwxyz'\n",
    "            return list(alphabets + ' ' + alphabets.upper())\n",
    "        else:\n",
    "            return []\n",
    "\n",
    "    # Concatenate state and action to get the result\n",
    "    def result(self, cur_state, action):\n",
    "        return cur_state + action\n",
    "    \n",
    "    # Check if goal has been achieved\n",
    "    def is_goal(self, cur_state):\n",
    "        return cur_state == self.target_string\n",
    "    \n",
    "    # Define the heuristic that will be used\n",
    "    def heuristic(self, cur_state):\n",
    "        # Compare current string with target string\n",
    "        dist = sum([1 if cur_state[i] != self.target_string[i] else 0 for i in range(len(cur_state))])\n",
    "        # Difference between the lengths\n",
    "        diff = len(self.target_string) - len(cur_state)\n",
    "        return dist + diff\n",
    "\n",
    "if __name__=='__main__':\n",
    "    args = build_arg_parser().parse_args()\n",
    "    \n",
    "    # Initialize the object\n",
    "    problem = CustomProblem()\n",
    "    \n",
    "    # Set target string and initial state\n",
    "    problem.set_target(args.input_string)\n",
    "    problem.initial_state = args.initial_state\n",
    "    \n",
    "    #Run the solver:\n",
    "    # Solve the problem\n",
    "    output = ss.greedy(problem)\n",
    "    \n",
    "    #Print the path to the solution:\n",
    "    print('\\nTarget string:', args.input_string)\n",
    "    print('\\nPath to the solution:')\n",
    "    for item in output.path():\n",
    "        print(item)"
   ]
  },
  {
   "cell_type": "code",
   "execution_count": null,
   "metadata": {},
   "outputs": [],
   "source": []
  },
  {
   "cell_type": "code",
   "execution_count": null,
   "metadata": {},
   "outputs": [],
   "source": []
  }
 ],
 "metadata": {
  "kernelspec": {
   "display_name": "Python 3",
   "language": "python",
   "name": "python3"
  },
  "language_info": {
   "codemirror_mode": {
    "name": "ipython",
    "version": 3
   },
   "file_extension": ".py",
   "mimetype": "text/x-python",
   "name": "python",
   "nbconvert_exporter": "python",
   "pygments_lexer": "ipython3",
   "version": "3.7.4"
  }
 },
 "nbformat": 4,
 "nbformat_minor": 4
}
